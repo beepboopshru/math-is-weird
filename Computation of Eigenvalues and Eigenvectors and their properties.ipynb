{
 "cells": [
  {
   "cell_type": "markdown",
   "id": "6308e652",
   "metadata": {},
   "source": [
    "# Eigen Values and Eigen Vectors"
   ]
  },
  {
   "cell_type": "markdown",
   "id": "9117aad0",
   "metadata": {},
   "source": [
    "### Calculate the eigenvalues and eigenvectors of the matrix"
   ]
  },
  {
   "cell_type": "code",
   "execution_count": 3,
   "id": "00f955b1",
   "metadata": {},
   "outputs": [
    {
     "name": "stdout",
     "output_type": "stream",
     "text": [
      "Given Matrix\n",
      "[[ 4  3  2]\n",
      " [ 1  4  1]\n",
      " [ 3 10  4]]\n",
      "\n",
      "Eigen values [8.98205672 2.12891771 0.88902557]\n",
      "Eigen vectors (array([8.98205672, 2.12891771, 0.88902557]), array([[-0.49247712, -0.82039552, -0.42973429],\n",
      "       [-0.26523242,  0.14250681, -0.14817858],\n",
      "       [-0.82892584,  0.55375355,  0.89071407]]))\n"
     ]
    }
   ],
   "source": [
    "import numpy as np\n",
    "I=np.array([[4,3,2],[1,4,1],[3,10,4]])\n",
    "print(\"Given Matrix\")\n",
    "print(I)\n",
    "print()\n",
    "x=np.linalg.eigvals(I)\n",
    "y=np.linalg.eig(I)\n",
    "print(\"Eigen values\",x)\n",
    "print(\"Eigen vectors\",y)"
   ]
  },
  {
   "cell_type": "markdown",
   "id": "bff3e26d",
   "metadata": {},
   "source": [
    "### Calculate the eigen values and eigenvectors of the given matrix"
   ]
  },
  {
   "cell_type": "code",
   "execution_count": 4,
   "id": "df4d7ab9",
   "metadata": {},
   "outputs": [
    {
     "name": "stdout",
     "output_type": "stream",
     "text": [
      "Given Matrix\n",
      "[[ 1 -3  3]\n",
      " [ 3 -5  3]\n",
      " [ 6 -6  4]]\n",
      "\n",
      "Eigen values [ 4. -2. -2.]\n",
      "Eigen vectors (array([ 4., -2., -2.]), array([[ 0.40824829, -0.40824829, -0.30502542],\n",
      "       [ 0.40824829,  0.40824829, -0.808424  ],\n",
      "       [ 0.81649658,  0.81649658, -0.50339858]]))\n"
     ]
    }
   ],
   "source": [
    "import numpy as np\n",
    "I=np.array([[1,-3,3],[3,-5,3],[6,-6,4]])\n",
    "print(\"Given Matrix\")\n",
    "print(I)\n",
    "print()\n",
    "x=np.linalg.eigvals(I)\n",
    "y=np.linalg.eig(I)\n",
    "print(\"Eigen values\",x)\n",
    "print(\"Eigen vectors\",y)"
   ]
  },
  {
   "cell_type": "markdown",
   "id": "bd4094b4",
   "metadata": {},
   "source": [
    "# Properties of eigenvalues and eigenvectors"
   ]
  },
  {
   "cell_type": "markdown",
   "id": "047b4723",
   "metadata": {},
   "source": [
    "##### For an n x n matrix the number of eigen values is always less than or equal to n.\n",
    "\n",
    "##### The sum of eigen values is equal to the diagonal elements of matrix\n",
    "\n",
    "##### The product of eigen values is equal to the determinant of the matrix\n",
    "\n",
    "##### The eigen value of an identity matrix is 1\n",
    "\n",
    "##### The eigenvalues of a triangular matrix is the diagonal elements\n",
    "\n",
    "##### For a skew symmetric matrix, the eigenvalues are either purely imaginary or zero\n",
    "\n",
    "##### For orthogonal matrix the length of eigenvalues equal to 1\n",
    "\n",
    "##### For idempotent (A^2=A) matrix the eigenvalues are 0 and 1 "
   ]
  },
  {
   "cell_type": "code",
   "execution_count": 5,
   "id": "d03de400",
   "metadata": {},
   "outputs": [],
   "source": [
    "import math \n",
    "from math import *\n",
    "import numpy as np\n",
    "from numpy import *"
   ]
  },
  {
   "cell_type": "markdown",
   "id": "06e13222",
   "metadata": {},
   "source": [
    "## Property 2"
   ]
  },
  {
   "cell_type": "code",
   "execution_count": 4,
   "id": "af15bb68",
   "metadata": {},
   "outputs": [
    {
     "name": "stdout",
     "output_type": "stream",
     "text": [
      "Given Matrix\n",
      "[[1 2 3]\n",
      " [2 3 5]\n",
      " [3 1 1]]\n",
      "[ 6.70681662 -1.38350231 -0.32331432]\n",
      "5\n",
      "5\n"
     ]
    }
   ],
   "source": [
    "import numpy as np\n",
    "A=np.array([[1,2,3],[2,3,5],[3,1,1]])\n",
    "print(\"Given Matrix\")\n",
    "print(A)\n",
    "x=np.linalg.eigvals(A)\n",
    "y=round(sum(x))\n",
    "print(x)\n",
    "print(y)\n",
    "z=np.trace(A)\n",
    "print(z)"
   ]
  },
  {
   "cell_type": "markdown",
   "id": "95b57f5f",
   "metadata": {},
   "source": [
    "## Property 3"
   ]
  },
  {
   "cell_type": "code",
   "execution_count": 11,
   "id": "80aefd8a",
   "metadata": {},
   "outputs": [
    {
     "name": "stdout",
     "output_type": "stream",
     "text": [
      "Given Matrix\n",
      "[[1 2 3]\n",
      " [1 3 5]\n",
      " [4 1 2]]\n",
      "(4+0j)\n",
      "4.0\n"
     ]
    }
   ],
   "source": [
    "import numpy as np\n",
    "A=np.array([[1,2,3],[1,3,5],[4,1,2]])\n",
    "print(\"Given Matrix\")\n",
    "print(A)\n",
    "x=np.linalg.eigvals(A)\n",
    "y=np.round(np.prod(x))\n",
    "z=np.round(np.linalg.det(A))\n",
    "print(y)\n",
    "print(z)"
   ]
  },
  {
   "cell_type": "markdown",
   "id": "dffd5c1c",
   "metadata": {},
   "source": [
    "## Property 4"
   ]
  },
  {
   "cell_type": "code",
   "execution_count": 13,
   "id": "554fd536",
   "metadata": {},
   "outputs": [
    {
     "name": "stdout",
     "output_type": "stream",
     "text": [
      "[[1. 0. 0.]\n",
      " [0. 1. 0.]\n",
      " [0. 0. 1.]]\n",
      "[1. 1. 1.]\n"
     ]
    }
   ],
   "source": [
    "A=np.eye(3)\n",
    "print(A)\n",
    "x=np.linalg.eigvals(A)\n",
    "print(x)"
   ]
  },
  {
   "cell_type": "markdown",
   "id": "729a8f1d",
   "metadata": {},
   "source": [
    "# Property 5"
   ]
  },
  {
   "cell_type": "code",
   "execution_count": 14,
   "id": "a8e49ab3",
   "metadata": {},
   "outputs": [
    {
     "name": "stdout",
     "output_type": "stream",
     "text": [
      "[1. 3. 2.]\n"
     ]
    }
   ],
   "source": [
    "A=np.array([[1,2,3],[0,3,5],[0,0,2]])# Triangular Matrix\n",
    "x=np.linalg.eigvals(A)\n",
    "print(x)"
   ]
  },
  {
   "cell_type": "markdown",
   "id": "89691194",
   "metadata": {},
   "source": [
    "# Property 6"
   ]
  },
  {
   "cell_type": "code",
   "execution_count": 21,
   "id": "a1dac0b9",
   "metadata": {},
   "outputs": [
    {
     "name": "stdout",
     "output_type": "stream",
     "text": [
      "[0.+1.j 0.-1.j]\n"
     ]
    }
   ],
   "source": [
    "A=np.array([[0,-1],[1,0]])\n",
    "x=np.round(np.linalg.eigvals(A))\n",
    "print(x)"
   ]
  },
  {
   "cell_type": "code",
   "execution_count": 20,
   "id": "398781f2",
   "metadata": {},
   "outputs": [
    {
     "name": "stdout",
     "output_type": "stream",
     "text": [
      "[0.+2.j 0.-2.j 0.+0.j]\n"
     ]
    }
   ],
   "source": [
    "A=np.array([[0,1,-1],[-1,0,1],[1,-1,0]])\n",
    "x=np.round(np.linalg.eigvals(A))\n",
    "print(x)"
   ]
  },
  {
   "cell_type": "markdown",
   "id": "b5d11398",
   "metadata": {},
   "source": [
    "## Property 7"
   ]
  },
  {
   "cell_type": "code",
   "execution_count": 25,
   "id": "533e9128",
   "metadata": {},
   "outputs": [
    {
     "name": "stdout",
     "output_type": "stream",
     "text": [
      "[1.+0.j 0.+1.j 0.-1.j]\n",
      "(1+0j)\n"
     ]
    }
   ],
   "source": [
    "A=np.array([[2/3,1/3,1/3],[-2/3,1/3,2/3],[1/3,-2/3,2/3]])\n",
    "x=np.round(np.linalg.eigvals(A))\n",
    "print(x)\n",
    "print(np.sum(x))"
   ]
  },
  {
   "cell_type": "markdown",
   "id": "9c3f7375",
   "metadata": {},
   "source": [
    "## Property 8"
   ]
  },
  {
   "cell_type": "code",
   "execution_count": 27,
   "id": "446b81b9",
   "metadata": {},
   "outputs": [
    {
     "name": "stdout",
     "output_type": "stream",
     "text": [
      "[1. 1. 0.]\n"
     ]
    }
   ],
   "source": [
    "A=np.array([[1,2,0],[0,1,0],[0,0,0]])\n",
    "x=np.round(np.linalg.eigvals(A))\n",
    "print(x)"
   ]
  },
  {
   "cell_type": "markdown",
   "id": "3b29fefd",
   "metadata": {},
   "source": [
    "# Diagonalisation of a Square Matrix"
   ]
  },
  {
   "cell_type": "markdown",
   "id": "ec51707e",
   "metadata": {},
   "source": [
    "##### Given the matrix A, let the matrix of eigen vectors of A and P and the inverse of the matrix P be I. Then the diagonalised matrix is given by the equation IAP=D"
   ]
  },
  {
   "cell_type": "code",
   "execution_count": 4,
   "id": "90c81ee6",
   "metadata": {},
   "outputs": [
    {
     "name": "stdout",
     "output_type": "stream",
     "text": [
      "The final diagonalised matrix is\n",
      "[[ 3.  0.  0.]\n",
      " [ 0.  1.  0.]\n",
      " [ 0.  0. -2.]]\n",
      "Eigen Vectors [[ 0.57735027  0.57735027 -0.61684937]\n",
      " [ 0.57735027 -0.57735027 -0.05607722]\n",
      " [ 0.57735027 -0.57735027  0.78508102]]\n",
      "Eigen VAlues [ 3.  1. -2.]\n"
     ]
    }
   ],
   "source": [
    "import numpy as np\n",
    "from math import *\n",
    "A=np.mat([[2,-2,3],[1,1,1],[1,3,-1]])\n",
    "X,P=np.linalg.eig(A)\n",
    "I=np.linalg.eig(A)\n",
    "I=np.linalg.inv(P)\n",
    "Z=np.around(I*A*P)\n",
    "for i in range(len(Z)):\n",
    "    for j in range(len(Z)):\n",
    "        if Z[i,j]==-0:\n",
    "            Z[i,j]=0\n",
    "print(\"The final diagonalised matrix is\")\n",
    "print(Z)\n",
    "print(\"Eigen Vectors\", P)\n",
    "print(\"Eigen VAlues\", X)"
   ]
  },
  {
   "cell_type": "markdown",
   "id": "a958afbf",
   "metadata": {},
   "source": [
    "## Cayley Hamilton Theorem"
   ]
  },
  {
   "cell_type": "markdown",
   "id": "64232051",
   "metadata": {},
   "source": [
    "### Every non singular square matrix satisfy its characteristic equation"
   ]
  },
  {
   "cell_type": "code",
   "execution_count": 1,
   "id": "3b0df6dd",
   "metadata": {},
   "outputs": [
    {
     "name": "stdout",
     "output_type": "stream",
     "text": [
      "The coefficients of the characeteristic equation are [ 1. -7. -2.]\n",
      "Trace= 7\n",
      "Determinant= -2.0\n",
      "[[1. 0.]\n",
      " [0. 1.]]\n",
      "[[0. 0.]\n",
      " [0. 0.]]\n"
     ]
    }
   ],
   "source": [
    "import numpy as np\n",
    "A=np.mat([[2,3],[4,5]])\n",
    "from math import *\n",
    "X=np.poly(A)\n",
    "print(\"The coefficients of the characeteristic equation are\",X)\n",
    "\n",
    "trace_A=np.trace(A)\n",
    "print(\"Trace=\",trace_A)\n",
    "det_A=np.linalg.det(A)\n",
    "print(\"Determinant=\",det_A)\n",
    "I=np.eye(len(A))\n",
    "print(I)\n",
    "P=A*A-trace_A*A+det_A*I\n",
    "print(P)"
   ]
  },
  {
   "cell_type": "code",
   "execution_count": 6,
   "id": "940b584b",
   "metadata": {},
   "outputs": [
    {
     "name": "stdout",
     "output_type": "stream",
     "text": [
      "Enter the order of the matris3\n",
      "Enter by single line separated by space\n",
      "1 3 4 2 5 4 3 4 5\n",
      "\n",
      "The matrix is \n",
      "[[1 3 4]\n",
      " [2 5 4]\n",
      " [3 4 5]]\n",
      "[[1. 0. 0.]\n",
      " [0. 1. 0.]\n",
      " [0. 0. 1.]]\n",
      "[  1. -11.   1.  13.]\n",
      "The coefficients of the characteristic equation [  1. -11.   1.  13.]\n",
      "\n"
     ]
    },
    {
     "data": {
      "text/plain": [
       "matrix([[0., 0., 0.],\n",
       "        [0., 0., 0.],\n",
       "        [0., 0., 0.]])"
      ]
     },
     "execution_count": 6,
     "metadata": {},
     "output_type": "execute_result"
    }
   ],
   "source": [
    "from sympy import *\n",
    "from math import *\n",
    "from numpy import *\n",
    "import numpy as np\n",
    "\n",
    "n=int(input(\"Enter the order of the matris\"))\n",
    "print(\"Enter by single line separated by space\")\n",
    "elements=list(map(int,input().split()))\n",
    "A=np.matrix(elements).reshape(n,n)\n",
    "s=0\n",
    "print()\n",
    "print(\"The matrix is \")\n",
    "print(A)\n",
    "I=eye(len(A),len(A))\n",
    "print(I)\n",
    "ce=np.poly(A)\n",
    "print(ce)\n",
    "ce=ce.round()\n",
    "print(\"The coefficients of the characteristic equation\",ce)\n",
    "for i in range(len(ce)):\n",
    "    eq=ce[i]*I*(A**(len(ce)-i))\n",
    "    s=s+eq\n",
    "print()\n",
    "s"
   ]
  },
  {
   "cell_type": "markdown",
   "id": "24e08ef8",
   "metadata": {},
   "source": [
    "## Verify Cayley Hamilton Theorem"
   ]
  },
  {
   "cell_type": "code",
   "execution_count": 7,
   "id": "2d7df27c",
   "metadata": {},
   "outputs": [
    {
     "name": "stdout",
     "output_type": "stream",
     "text": [
      "Enter the order of the matris3\n",
      "Enter by single line separated by space\n",
      "3 1 2 1 2 0 0 1 3\n",
      "\n",
      "The matrix is \n",
      "[[3 1 2]\n",
      " [1 2 0]\n",
      " [0 1 3]]\n",
      "[[1. 0. 0.]\n",
      " [0. 1. 0.]\n",
      " [0. 0. 1.]]\n",
      "[  1.  -8.  20. -17.]\n",
      "The coefficients of the characteristic equation [  1.  -8.  20. -17.]\n",
      "\n"
     ]
    },
    {
     "data": {
      "text/plain": [
       "matrix([[0., 0., 0.],\n",
       "        [0., 0., 0.],\n",
       "        [0., 0., 0.]])"
      ]
     },
     "execution_count": 7,
     "metadata": {},
     "output_type": "execute_result"
    }
   ],
   "source": [
    "from sympy import *\n",
    "from math import *\n",
    "from numpy import *\n",
    "import numpy as np\n",
    "\n",
    "n=int(input(\"Enter the order of the matris\"))\n",
    "print(\"Enter by single line separated by space\")\n",
    "elements=list(map(int,input().split()))\n",
    "A=np.matrix(elements).reshape(n,n)\n",
    "s=0\n",
    "print()\n",
    "print(\"The matrix is \")\n",
    "print(A)\n",
    "I=eye(len(A),len(A))\n",
    "print(I)\n",
    "ce=np.poly(A)\n",
    "print(ce)\n",
    "ce=ce.round()\n",
    "print(\"The coefficients of the characteristic equation\",ce)\n",
    "for i in range(len(ce)):\n",
    "    eq=ce[i]*I*(A**(len(ce)-i))\n",
    "    s=s+eq\n",
    "print()\n",
    "s"
   ]
  },
  {
   "cell_type": "code",
   "execution_count": 8,
   "id": "fe66cafb",
   "metadata": {},
   "outputs": [
    {
     "name": "stdout",
     "output_type": "stream",
     "text": [
      "Enter the order of the matris4\n",
      "Enter by single line separated by space\n",
      "1 3 5 7 2 4 6 8 4 3 5 2 6 4 5 1\n",
      "\n",
      "The matrix is \n",
      "[[1 3 5 7]\n",
      " [2 4 6 8]\n",
      " [4 3 5 2]\n",
      " [6 4 5 1]]\n",
      "[[1. 0. 0. 0.]\n",
      " [0. 1. 0. 0.]\n",
      " [0. 0. 1. 0.]\n",
      " [0. 0. 0. 1.]]\n",
      "[ 1.00000000e+00 -1.10000000e+01 -8.90000000e+01  7.30000000e+01\n",
      " -3.33472454e-14]\n",
      "The coefficients of the characteristic equation [  1. -11. -89.  73.  -0.]\n",
      "\n"
     ]
    },
    {
     "data": {
      "text/plain": [
       "matrix([[0., 0., 0., 0.],\n",
       "        [0., 0., 0., 0.],\n",
       "        [0., 0., 0., 0.],\n",
       "        [0., 0., 0., 0.]])"
      ]
     },
     "execution_count": 8,
     "metadata": {},
     "output_type": "execute_result"
    }
   ],
   "source": [
    "from sympy import *\n",
    "from math import *\n",
    "from numpy import *\n",
    "import numpy as np\n",
    "\n",
    "n=int(input(\"Enter the order of the matris\"))\n",
    "print(\"Enter by single line separated by space\")\n",
    "elements=list(map(int,input().split()))\n",
    "A=np.matrix(elements).reshape(n,n)\n",
    "s=0\n",
    "print()\n",
    "print(\"The matrix is \")\n",
    "print(A)\n",
    "I=eye(len(A),len(A))\n",
    "print(I)\n",
    "ce=np.poly(A)\n",
    "print(ce)\n",
    "ce=ce.round()\n",
    "print(\"The coefficients of the characteristic equation\",ce)\n",
    "for i in range(len(ce)):\n",
    "    eq=ce[i]*I*(A**(len(ce)-i))\n",
    "    s=s+eq\n",
    "print()\n",
    "s"
   ]
  },
  {
   "cell_type": "code",
   "execution_count": 9,
   "id": "02ab4e1a",
   "metadata": {},
   "outputs": [
    {
     "name": "stdout",
     "output_type": "stream",
     "text": [
      "Enter the order of the matris4\n",
      "Enter by single line separated by space\n",
      "3 1 0 4 2 0 7 3 1 2 8 4 4 3 7 2\n",
      "\n",
      "The matrix is \n",
      "[[3 1 0 4]\n",
      " [2 0 7 3]\n",
      " [1 2 8 4]\n",
      " [4 3 7 2]]\n",
      "[[1. 0. 0. 0.]\n",
      " [0. 1. 0. 0.]\n",
      " [0. 0. 1. 0.]\n",
      " [0. 0. 0. 1.]]\n",
      "[  1. -13. -23. 156. 299.]\n",
      "The coefficients of the characteristic equation [  1. -13. -23. 156. 299.]\n",
      "\n"
     ]
    },
    {
     "data": {
      "text/plain": [
       "matrix([[0., 0., 0., 0.],\n",
       "        [0., 0., 0., 0.],\n",
       "        [0., 0., 0., 0.],\n",
       "        [0., 0., 0., 0.]])"
      ]
     },
     "execution_count": 9,
     "metadata": {},
     "output_type": "execute_result"
    }
   ],
   "source": [
    "from sympy import *\n",
    "from math import *\n",
    "from numpy import *\n",
    "import numpy as np\n",
    "\n",
    "n=int(input(\"Enter the order of the matris\"))\n",
    "print(\"Enter by single line separated by space\")\n",
    "elements=list(map(int,input().split()))\n",
    "A=np.matrix(elements).reshape(n,n)\n",
    "s=0\n",
    "print()\n",
    "print(\"The matrix is \")\n",
    "print(A)\n",
    "I=eye(len(A),len(A))\n",
    "print(I)\n",
    "ce=np.poly(A)\n",
    "print(ce)\n",
    "ce=ce.round()\n",
    "print(\"The coefficients of the characteristic equation\",ce)\n",
    "for i in range(len(ce)):\n",
    "    eq=ce[i]*I*(A**(len(ce)-i))\n",
    "    s=s+eq\n",
    "print()\n",
    "s"
   ]
  },
  {
   "cell_type": "code",
   "execution_count": null,
   "id": "859ed645",
   "metadata": {},
   "outputs": [],
   "source": []
  }
 ],
 "metadata": {
  "kernelspec": {
   "display_name": "Python 3 (ipykernel)",
   "language": "python",
   "name": "python3"
  },
  "language_info": {
   "codemirror_mode": {
    "name": "ipython",
    "version": 3
   },
   "file_extension": ".py",
   "mimetype": "text/x-python",
   "name": "python",
   "nbconvert_exporter": "python",
   "pygments_lexer": "ipython3",
   "version": "3.9.12"
  }
 },
 "nbformat": 4,
 "nbformat_minor": 5
}
